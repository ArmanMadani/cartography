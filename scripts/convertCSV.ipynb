{
 "cells": [
  {
   "cell_type": "code",
   "execution_count": 1,
   "metadata": {
    "collapsed": true
   },
   "outputs": [],
   "source": [
    "import json\n",
    "import pandas as pd\n",
    "from pprint import pprint\n",
    "from datetime import datetime"
   ]
  },
  {
   "cell_type": "code",
   "execution_count": 2,
   "metadata": {
    "collapsed": false
   },
   "outputs": [
    {
     "name": "stderr",
     "output_type": "stream",
     "text": [
      "//anaconda/lib/python3.5/site-packages/IPython/core/interactiveshell.py:2723: DtypeWarning: Columns (18) have mixed types. Specify dtype option on import or set low_memory=False.\n",
      "  interactivity=interactivity, compiler=compiler, result=result)\n"
     ]
    }
   ],
   "source": [
    "df = pd.read_csv('../data/311_Cases.csv')"
   ]
  },
  {
   "cell_type": "code",
   "execution_count": 3,
   "metadata": {
    "collapsed": false
   },
   "outputs": [
    {
     "data": {
      "text/html": [
       "<div>\n",
       "<style scoped>\n",
       "    .dataframe tbody tr th:only-of-type {\n",
       "        vertical-align: middle;\n",
       "    }\n",
       "\n",
       "    .dataframe tbody tr th {\n",
       "        vertical-align: top;\n",
       "    }\n",
       "\n",
       "    .dataframe thead th {\n",
       "        text-align: right;\n",
       "    }\n",
       "</style>\n",
       "<table border=\"1\" class=\"dataframe\">\n",
       "  <thead>\n",
       "    <tr style=\"text-align: right;\">\n",
       "      <th></th>\n",
       "      <th>CaseID</th>\n",
       "      <th>Opened</th>\n",
       "      <th>Closed</th>\n",
       "      <th>Updated</th>\n",
       "      <th>Status</th>\n",
       "      <th>Status Notes</th>\n",
       "      <th>Responsible Agency</th>\n",
       "      <th>Category</th>\n",
       "      <th>Request Type</th>\n",
       "      <th>Request Details</th>\n",
       "      <th>Address</th>\n",
       "      <th>Supervisor District</th>\n",
       "      <th>Neighborhood</th>\n",
       "      <th>Police District</th>\n",
       "      <th>Latitude</th>\n",
       "      <th>Longitude</th>\n",
       "      <th>Point</th>\n",
       "      <th>Source</th>\n",
       "      <th>Media URL</th>\n",
       "    </tr>\n",
       "  </thead>\n",
       "  <tbody>\n",
       "    <tr>\n",
       "      <th>0</th>\n",
       "      <td>241459</td>\n",
       "      <td>07/02/2008 03:16:55 PM</td>\n",
       "      <td>07/12/2010 10:16:59 AM</td>\n",
       "      <td>07/12/2010 10:16:59 AM</td>\n",
       "      <td>Closed</td>\n",
       "      <td>NaN</td>\n",
       "      <td>DPW Ops Queue</td>\n",
       "      <td>Tree Maintenance</td>\n",
       "      <td>Trees - Damaging_Property</td>\n",
       "      <td>Lifted_sidewalk_tree_roots</td>\n",
       "      <td>Intersection of RETIRO WAY and RICO WAY</td>\n",
       "      <td>2.0</td>\n",
       "      <td>Marina</td>\n",
       "      <td>NORTHERN</td>\n",
       "      <td>37.80493</td>\n",
       "      <td>-122.4381</td>\n",
       "      <td>(37.8049295544814, -122.438141782293)</td>\n",
       "      <td>Phone</td>\n",
       "      <td>NaN</td>\n",
       "    </tr>\n",
       "    <tr>\n",
       "      <th>1</th>\n",
       "      <td>241538</td>\n",
       "      <td>07/02/2008 04:47:08 PM</td>\n",
       "      <td>06/25/2010 11:16:56 AM</td>\n",
       "      <td>06/25/2010 11:16:56 AM</td>\n",
       "      <td>Closed</td>\n",
       "      <td>NaN</td>\n",
       "      <td>DPW Ops Queue</td>\n",
       "      <td>Tree Maintenance</td>\n",
       "      <td>Trees - Damaged_Tree</td>\n",
       "      <td>Hanging_limb</td>\n",
       "      <td>Intersection of ELLIS ST and WEBSTER ST</td>\n",
       "      <td>5.0</td>\n",
       "      <td>Western Addition</td>\n",
       "      <td>NORTHERN</td>\n",
       "      <td>37.78257</td>\n",
       "      <td>-122.4308</td>\n",
       "      <td>(37.7825698284387, -122.430797788991)</td>\n",
       "      <td>Phone</td>\n",
       "      <td>NaN</td>\n",
       "    </tr>\n",
       "    <tr>\n",
       "      <th>2</th>\n",
       "      <td>241571</td>\n",
       "      <td>07/02/2008 05:54:07 PM</td>\n",
       "      <td>10/21/2010 12:09:32 PM</td>\n",
       "      <td>10/21/2010 12:09:32 PM</td>\n",
       "      <td>Closed</td>\n",
       "      <td>NaN</td>\n",
       "      <td>DPW Ops Queue</td>\n",
       "      <td>Tree Maintenance</td>\n",
       "      <td>Trees - Overgrown_Tree</td>\n",
       "      <td>Blocking_street_lights</td>\n",
       "      <td>4228 GEARY BLVD, SAN FRANCISCO, CA, 94118</td>\n",
       "      <td>1.0</td>\n",
       "      <td>Inner Richmond</td>\n",
       "      <td>RICHMOND</td>\n",
       "      <td>37.78120</td>\n",
       "      <td>-122.4650</td>\n",
       "      <td>(37.7812, -122.465)</td>\n",
       "      <td>Phone</td>\n",
       "      <td>NaN</td>\n",
       "    </tr>\n",
       "    <tr>\n",
       "      <th>3</th>\n",
       "      <td>241909</td>\n",
       "      <td>07/03/2008 12:38:04 PM</td>\n",
       "      <td>06/25/2010 11:16:56 AM</td>\n",
       "      <td>06/25/2010 11:16:56 AM</td>\n",
       "      <td>Closed</td>\n",
       "      <td>NaN</td>\n",
       "      <td>DPW Ops Queue</td>\n",
       "      <td>Tree Maintenance</td>\n",
       "      <td>Trees - Landscaping</td>\n",
       "      <td>Sprinkler_system_issues</td>\n",
       "      <td>Intersection of 29TH ST and DOLORES ST</td>\n",
       "      <td>8.0</td>\n",
       "      <td>Noe Valley</td>\n",
       "      <td>INGLESIDE</td>\n",
       "      <td>37.74384</td>\n",
       "      <td>-122.4244</td>\n",
       "      <td>(37.743838109851, -122.424384904295)</td>\n",
       "      <td>Phone</td>\n",
       "      <td>NaN</td>\n",
       "    </tr>\n",
       "    <tr>\n",
       "      <th>4</th>\n",
       "      <td>241917</td>\n",
       "      <td>07/03/2008 12:44:26 PM</td>\n",
       "      <td>07/06/2010 06:16:58 PM</td>\n",
       "      <td>07/06/2010 06:16:58 PM</td>\n",
       "      <td>Closed</td>\n",
       "      <td>NaN</td>\n",
       "      <td>DPW Ops Queue</td>\n",
       "      <td>Street and Sidewalk Cleaning</td>\n",
       "      <td>General Cleaning</td>\n",
       "      <td>Other Loose Garbage</td>\n",
       "      <td>Intersection of BRANNAN ST and DELANCEY ST</td>\n",
       "      <td>6.0</td>\n",
       "      <td>South Beach</td>\n",
       "      <td>SOUTHERN</td>\n",
       "      <td>37.78361</td>\n",
       "      <td>-122.3898</td>\n",
       "      <td>(37.7836091422541, -122.389846394555)</td>\n",
       "      <td>Phone</td>\n",
       "      <td>NaN</td>\n",
       "    </tr>\n",
       "  </tbody>\n",
       "</table>\n",
       "</div>"
      ],
      "text/plain": [
       "   CaseID                  Opened                  Closed  \\\n",
       "0  241459  07/02/2008 03:16:55 PM  07/12/2010 10:16:59 AM   \n",
       "1  241538  07/02/2008 04:47:08 PM  06/25/2010 11:16:56 AM   \n",
       "2  241571  07/02/2008 05:54:07 PM  10/21/2010 12:09:32 PM   \n",
       "3  241909  07/03/2008 12:38:04 PM  06/25/2010 11:16:56 AM   \n",
       "4  241917  07/03/2008 12:44:26 PM  07/06/2010 06:16:58 PM   \n",
       "\n",
       "                  Updated  Status Status Notes Responsible Agency  \\\n",
       "0  07/12/2010 10:16:59 AM  Closed          NaN      DPW Ops Queue   \n",
       "1  06/25/2010 11:16:56 AM  Closed          NaN      DPW Ops Queue   \n",
       "2  10/21/2010 12:09:32 PM  Closed          NaN      DPW Ops Queue   \n",
       "3  06/25/2010 11:16:56 AM  Closed          NaN      DPW Ops Queue   \n",
       "4  07/06/2010 06:16:58 PM  Closed          NaN      DPW Ops Queue   \n",
       "\n",
       "                       Category               Request Type  \\\n",
       "0              Tree Maintenance  Trees - Damaging_Property   \n",
       "1              Tree Maintenance       Trees - Damaged_Tree   \n",
       "2              Tree Maintenance     Trees - Overgrown_Tree   \n",
       "3              Tree Maintenance        Trees - Landscaping   \n",
       "4  Street and Sidewalk Cleaning           General Cleaning   \n",
       "\n",
       "              Request Details                                     Address  \\\n",
       "0  Lifted_sidewalk_tree_roots     Intersection of RETIRO WAY and RICO WAY   \n",
       "1                Hanging_limb     Intersection of ELLIS ST and WEBSTER ST   \n",
       "2      Blocking_street_lights   4228 GEARY BLVD, SAN FRANCISCO, CA, 94118   \n",
       "3     Sprinkler_system_issues      Intersection of 29TH ST and DOLORES ST   \n",
       "4         Other Loose Garbage  Intersection of BRANNAN ST and DELANCEY ST   \n",
       "\n",
       "   Supervisor District      Neighborhood Police District  Latitude  Longitude  \\\n",
       "0                  2.0            Marina        NORTHERN  37.80493  -122.4381   \n",
       "1                  5.0  Western Addition        NORTHERN  37.78257  -122.4308   \n",
       "2                  1.0    Inner Richmond        RICHMOND  37.78120  -122.4650   \n",
       "3                  8.0        Noe Valley       INGLESIDE  37.74384  -122.4244   \n",
       "4                  6.0       South Beach        SOUTHERN  37.78361  -122.3898   \n",
       "\n",
       "                                   Point Source Media URL  \n",
       "0  (37.8049295544814, -122.438141782293)  Phone       NaN  \n",
       "1  (37.7825698284387, -122.430797788991)  Phone       NaN  \n",
       "2                    (37.7812, -122.465)  Phone       NaN  \n",
       "3   (37.743838109851, -122.424384904295)  Phone       NaN  \n",
       "4  (37.7836091422541, -122.389846394555)  Phone       NaN  "
      ]
     },
     "execution_count": 3,
     "metadata": {},
     "output_type": "execute_result"
    }
   ],
   "source": [
    "df.head()"
   ]
  },
  {
   "cell_type": "code",
   "execution_count": 4,
   "metadata": {
    "collapsed": true
   },
   "outputs": [],
   "source": [
    "geojson = {\n",
    "    \"type\": \"FeatureCollection\",\n",
    "    \"features\": [\n",
    "    ]\n",
    "}"
   ]
  },
  {
   "cell_type": "code",
   "execution_count": 5,
   "metadata": {
    "collapsed": true
   },
   "outputs": [],
   "source": [
    "homeless_df = df[df['Category'] == 'Homeless Concerns']"
   ]
  },
  {
   "cell_type": "code",
   "execution_count": 6,
   "metadata": {
    "collapsed": false
   },
   "outputs": [
    {
     "name": "stderr",
     "output_type": "stream",
     "text": [
      "//anaconda/lib/python3.5/site-packages/ipykernel/__main__.py:3: SettingWithCopyWarning: \n",
      "A value is trying to be set on a copy of a slice from a DataFrame.\n",
      "Try using .loc[row_indexer,col_indexer] = value instead\n",
      "\n",
      "See the caveats in the documentation: http://pandas.pydata.org/pandas-docs/stable/indexing.html#indexing-view-versus-copy\n",
      "  app.launch_new_instance()\n"
     ]
    }
   ],
   "source": [
    "formatted_time = [int(homeless_df.iloc[row]['Opened'][6:10])\n",
    "                  for row in range(len(homeless_df))]\n",
    "homeless_df['Opened'] = formatted_time"
   ]
  },
  {
   "cell_type": "code",
   "execution_count": 8,
   "metadata": {
    "collapsed": false
   },
   "outputs": [
    {
     "data": {
      "text/plain": [
       "160414"
      ]
     },
     "execution_count": 8,
     "metadata": {},
     "output_type": "execute_result"
    }
   ],
   "source": [
    "len(homeless_df)"
   ]
  },
  {
   "cell_type": "code",
   "execution_count": 9,
   "metadata": {
    "collapsed": false
   },
   "outputs": [
    {
     "data": {
      "text/html": [
       "<div>\n",
       "<style scoped>\n",
       "    .dataframe tbody tr th:only-of-type {\n",
       "        vertical-align: middle;\n",
       "    }\n",
       "\n",
       "    .dataframe tbody tr th {\n",
       "        vertical-align: top;\n",
       "    }\n",
       "\n",
       "    .dataframe thead th {\n",
       "        text-align: right;\n",
       "    }\n",
       "</style>\n",
       "<table border=\"1\" class=\"dataframe\">\n",
       "  <thead>\n",
       "    <tr style=\"text-align: right;\">\n",
       "      <th></th>\n",
       "      <th>CaseID</th>\n",
       "      <th>Opened</th>\n",
       "      <th>Closed</th>\n",
       "      <th>Updated</th>\n",
       "      <th>Status</th>\n",
       "      <th>Status Notes</th>\n",
       "      <th>Responsible Agency</th>\n",
       "      <th>Category</th>\n",
       "      <th>Request Type</th>\n",
       "      <th>Request Details</th>\n",
       "      <th>Address</th>\n",
       "      <th>Supervisor District</th>\n",
       "      <th>Neighborhood</th>\n",
       "      <th>Police District</th>\n",
       "      <th>Latitude</th>\n",
       "      <th>Longitude</th>\n",
       "      <th>Point</th>\n",
       "      <th>Source</th>\n",
       "      <th>Media URL</th>\n",
       "    </tr>\n",
       "  </thead>\n",
       "  <tbody>\n",
       "    <tr>\n",
       "      <th>102</th>\n",
       "      <td>341687</td>\n",
       "      <td>2008</td>\n",
       "      <td>12/31/2008 06:07:18 AM</td>\n",
       "      <td>12/31/2008 06:07:18 AM</td>\n",
       "      <td>Closed</td>\n",
       "      <td>NaN</td>\n",
       "      <td>DPW Ops Queue</td>\n",
       "      <td>Homeless Concerns</td>\n",
       "      <td>Medical Waste</td>\n",
       "      <td>Needles</td>\n",
       "      <td>Not associated with a specific address</td>\n",
       "      <td>NaN</td>\n",
       "      <td></td>\n",
       "      <td></td>\n",
       "      <td>0.00000</td>\n",
       "      <td>0.0000</td>\n",
       "      <td>NaN</td>\n",
       "      <td>Phone</td>\n",
       "      <td>NaN</td>\n",
       "    </tr>\n",
       "    <tr>\n",
       "      <th>188</th>\n",
       "      <td>341397</td>\n",
       "      <td>2008</td>\n",
       "      <td>12/30/2008 07:07:10 PM</td>\n",
       "      <td>12/30/2008 07:07:10 PM</td>\n",
       "      <td>Closed</td>\n",
       "      <td>NaN</td>\n",
       "      <td>DPW Ops Queue</td>\n",
       "      <td>Homeless Concerns</td>\n",
       "      <td>Medical Waste</td>\n",
       "      <td>Needles</td>\n",
       "      <td>Intersection of 23RD ST and DOLORES ST</td>\n",
       "      <td>8.0</td>\n",
       "      <td>Dolores Heights</td>\n",
       "      <td>MISSION</td>\n",
       "      <td>37.75343</td>\n",
       "      <td>-122.4253</td>\n",
       "      <td>(37.7534316141915, -122.425302497791)</td>\n",
       "      <td>Phone</td>\n",
       "      <td>NaN</td>\n",
       "    </tr>\n",
       "    <tr>\n",
       "      <th>232</th>\n",
       "      <td>341240</td>\n",
       "      <td>2008</td>\n",
       "      <td>12/30/2008 07:07:07 PM</td>\n",
       "      <td>12/30/2008 07:07:07 PM</td>\n",
       "      <td>Closed</td>\n",
       "      <td>NaN</td>\n",
       "      <td>DPW Ops Queue</td>\n",
       "      <td>Homeless Concerns</td>\n",
       "      <td>Human Waste</td>\n",
       "      <td>Human Waste</td>\n",
       "      <td>Intersection of 25TH ST and LUCKY ST</td>\n",
       "      <td>9.0</td>\n",
       "      <td>Mission</td>\n",
       "      <td>MISSION</td>\n",
       "      <td>37.75093</td>\n",
       "      <td>-122.4134</td>\n",
       "      <td>(37.7509362479361, -122.413364630104)</td>\n",
       "      <td>Phone</td>\n",
       "      <td>NaN</td>\n",
       "    </tr>\n",
       "    <tr>\n",
       "      <th>244</th>\n",
       "      <td>341209</td>\n",
       "      <td>2008</td>\n",
       "      <td>12/30/2008 11:07:07 AM</td>\n",
       "      <td>12/30/2008 11:07:07 AM</td>\n",
       "      <td>Closed</td>\n",
       "      <td>NaN</td>\n",
       "      <td>DPW Ops Queue</td>\n",
       "      <td>Homeless Concerns</td>\n",
       "      <td>Human Waste</td>\n",
       "      <td>Human Waste</td>\n",
       "      <td>2423 LEAVENWORTH ST, SAN FRANCISCO, CA, 94109</td>\n",
       "      <td>2.0</td>\n",
       "      <td>Russian Hill</td>\n",
       "      <td>CENTRAL</td>\n",
       "      <td>37.80336</td>\n",
       "      <td>-122.4183</td>\n",
       "      <td>(37.803363871465, -122.418267725454)</td>\n",
       "      <td>Phone</td>\n",
       "      <td>NaN</td>\n",
       "    </tr>\n",
       "    <tr>\n",
       "      <th>307</th>\n",
       "      <td>341018</td>\n",
       "      <td>2008</td>\n",
       "      <td>12/30/2008 06:07:17 AM</td>\n",
       "      <td>12/30/2008 06:07:17 AM</td>\n",
       "      <td>Closed</td>\n",
       "      <td>NaN</td>\n",
       "      <td>DPW Ops Queue</td>\n",
       "      <td>Homeless Concerns</td>\n",
       "      <td>Human Waste</td>\n",
       "      <td>Human Waste</td>\n",
       "      <td>Intersection of 9TH ST and TEHAMA ST</td>\n",
       "      <td>6.0</td>\n",
       "      <td>South of Market</td>\n",
       "      <td>SOUTHERN</td>\n",
       "      <td>37.77457</td>\n",
       "      <td>-122.4126</td>\n",
       "      <td>(37.7745648439307, -122.412627133996)</td>\n",
       "      <td>Web</td>\n",
       "      <td>NaN</td>\n",
       "    </tr>\n",
       "  </tbody>\n",
       "</table>\n",
       "</div>"
      ],
      "text/plain": [
       "     CaseID  Opened                  Closed                 Updated  Status  \\\n",
       "102  341687    2008  12/31/2008 06:07:18 AM  12/31/2008 06:07:18 AM  Closed   \n",
       "188  341397    2008  12/30/2008 07:07:10 PM  12/30/2008 07:07:10 PM  Closed   \n",
       "232  341240    2008  12/30/2008 07:07:07 PM  12/30/2008 07:07:07 PM  Closed   \n",
       "244  341209    2008  12/30/2008 11:07:07 AM  12/30/2008 11:07:07 AM  Closed   \n",
       "307  341018    2008  12/30/2008 06:07:17 AM  12/30/2008 06:07:17 AM  Closed   \n",
       "\n",
       "    Status Notes Responsible Agency           Category   Request Type  \\\n",
       "102          NaN      DPW Ops Queue  Homeless Concerns  Medical Waste   \n",
       "188          NaN      DPW Ops Queue  Homeless Concerns  Medical Waste   \n",
       "232          NaN      DPW Ops Queue  Homeless Concerns    Human Waste   \n",
       "244          NaN      DPW Ops Queue  Homeless Concerns    Human Waste   \n",
       "307          NaN      DPW Ops Queue  Homeless Concerns    Human Waste   \n",
       "\n",
       "    Request Details                                        Address  \\\n",
       "102         Needles         Not associated with a specific address   \n",
       "188         Needles         Intersection of 23RD ST and DOLORES ST   \n",
       "232     Human Waste           Intersection of 25TH ST and LUCKY ST   \n",
       "244     Human Waste  2423 LEAVENWORTH ST, SAN FRANCISCO, CA, 94109   \n",
       "307     Human Waste           Intersection of 9TH ST and TEHAMA ST   \n",
       "\n",
       "     Supervisor District     Neighborhood Police District  Latitude  \\\n",
       "102                  NaN                                    0.00000   \n",
       "188                  8.0  Dolores Heights         MISSION  37.75343   \n",
       "232                  9.0          Mission         MISSION  37.75093   \n",
       "244                  2.0     Russian Hill         CENTRAL  37.80336   \n",
       "307                  6.0  South of Market        SOUTHERN  37.77457   \n",
       "\n",
       "     Longitude                                  Point Source Media URL  \n",
       "102     0.0000                                    NaN  Phone       NaN  \n",
       "188  -122.4253  (37.7534316141915, -122.425302497791)  Phone       NaN  \n",
       "232  -122.4134  (37.7509362479361, -122.413364630104)  Phone       NaN  \n",
       "244  -122.4183   (37.803363871465, -122.418267725454)  Phone       NaN  \n",
       "307  -122.4126  (37.7745648439307, -122.412627133996)    Web       NaN  "
      ]
     },
     "execution_count": 9,
     "metadata": {},
     "output_type": "execute_result"
    }
   ],
   "source": [
    "homeless_df.head()"
   ]
  },
  {
   "cell_type": "code",
   "execution_count": null,
   "metadata": {
    "collapsed": false
   },
   "outputs": [],
   "source": [
    "for row in range(len(homeless_df)):\n",
    "    geojson['features'] += [\n",
    "        {\n",
    "            \"type\": \"Feature\",\n",
    "            \"properties\": {\n",
    "                \"neighborhood\": str(homeless_df.iloc[row]['Neighborhood']),\n",
    "                \"year\": str(homeless_df.iloc[row]['Opened'])\n",
    "            },\n",
    "            \"geometry\": {\n",
    "                \"type\": \"Point\",\n",
    "                \"coordinates\": [\n",
    "                    homeless_df.iloc[row]['Longitude'],\n",
    "                    homeless_df.iloc[row]['Latitude']\n",
    "                ]\n",
    "            }\n",
    "        }\n",
    "    ]"
   ]
  },
  {
   "cell_type": "code",
   "execution_count": null,
   "metadata": {
    "collapsed": false
   },
   "outputs": [],
   "source": [
    "len(geojson['features'])"
   ]
  },
  {
   "cell_type": "code",
   "execution_count": null,
   "metadata": {
    "collapsed": false
   },
   "outputs": [],
   "source": [
    "with open('../data/homeless_requests.geojson', 'w') as file:\n",
    "    file.write(json.dumps(geojson))"
   ]
  },
  {
   "cell_type": "code",
   "execution_count": null,
   "metadata": {
    "collapsed": true
   },
   "outputs": [],
   "source": []
  }
 ],
 "metadata": {
  "kernelspec": {
   "display_name": "Python 3",
   "language": "python",
   "name": "python3"
  },
  "language_info": {
   "codemirror_mode": {
    "name": "ipython",
    "version": 3
   },
   "file_extension": ".py",
   "mimetype": "text/x-python",
   "name": "python",
   "nbconvert_exporter": "python",
   "pygments_lexer": "ipython3",
   "version": "3.5.4"
  }
 },
 "nbformat": 4,
 "nbformat_minor": 0
}
